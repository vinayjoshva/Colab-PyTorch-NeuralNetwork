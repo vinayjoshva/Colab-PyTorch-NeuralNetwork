{
  "nbformat": 4,
  "nbformat_minor": 0,
  "metadata": {
    "colab": {
      "provenance": [],
      "authorship_tag": "ABX9TyNrNws2nnF+oQok/BdGloZj",
      "include_colab_link": true
    },
    "kernelspec": {
      "name": "python3",
      "display_name": "Python 3"
    },
    "language_info": {
      "name": "python"
    }
  },
  "cells": [
    {
      "cell_type": "markdown",
      "metadata": {
        "id": "view-in-github",
        "colab_type": "text"
      },
      "source": [
        "<a href=\"https://colab.research.google.com/github/vinayjoshva/Colab-PyTorch-NeuralNetwork/blob/main/Practical_4_(16352584).ipynb\" target=\"_parent\"><img src=\"https://colab.research.google.com/assets/colab-badge.svg\" alt=\"Open In Colab\"/></a>"
      ]
    },
    {
      "cell_type": "code",
      "execution_count": 26,
      "metadata": {
        "colab": {
          "base_uri": "https://localhost:8080/"
        },
        "id": "fpZvemkBIAmM",
        "outputId": "597289b8-9cf6-4387-d0ea-7dfd77470021"
      },
      "outputs": [
        {
          "output_type": "stream",
          "name": "stdout",
          "text": [
            "                                                name main_category  \\\n",
            "0                        Sparx mens Sd9039g Sneakers        stores   \n",
            "1  WildHorn Brown RFID Blocking Leather Wallet fo...        stores   \n",
            "2  Casio Vintage Series Digital Grey Dial Men's W...        stores   \n",
            "3  SJeware Men & Women Solid Ankle Length Socks (...        stores   \n",
            "4  Fashion Frill Men's Double Coated Popular Stai...        stores   \n",
            "\n",
            "    sub_category                                              image  \\\n",
            "0  Men's Fashion  https://m.media-amazon.com/images/I/51e48JV2Gf...   \n",
            "1  Men's Fashion  https://m.media-amazon.com/images/I/81vMec1lk+...   \n",
            "2  Men's Fashion  https://m.media-amazon.com/images/I/61ybeKQto8...   \n",
            "3  Men's Fashion  https://m.media-amazon.com/images/I/61r8Z4tDkv...   \n",
            "4  Men's Fashion  https://m.media-amazon.com/images/I/61cY9DOK2X...   \n",
            "\n",
            "                                                link ratings no_of_ratings  \\\n",
            "0  https://www.amazon.in/Sparx-Casual-Stripped-Sn...     4.0         1,893   \n",
            "1  https://www.amazon.in/WildHorn-Brown-Wallet-WH...     4.0        33,466   \n",
            "2  https://www.amazon.in/Casio-Vintage-Digital-Gr...     4.4        29,931   \n",
            "3  https://www.amazon.in/Sjeware-Length-Polyester...     3.3         1,212   \n",
            "4  https://www.amazon.in/Fashion-Frill-Stainless-...     4.1           721   \n",
            "\n",
            "  discount_price actual_price  \n",
            "0           ₹499         ₹999  \n",
            "1           ₹285       ₹1,499  \n",
            "2            NaN       ₹1,695  \n",
            "3           ₹145         ₹399  \n",
            "4           ₹179         ₹998  \n"
          ]
        }
      ],
      "source": [
        "import pandas as pd\n",
        "\n",
        "# Load the dataset\n",
        "file_path = \"Mens Fashion.csv\"  # Update this path as needed\n",
        "df = pd.read_csv(file_path)\n",
        "\n",
        "# Display the first few rows to inspect the structure\n",
        "print(df.head())"
      ]
    },
    {
      "cell_type": "code",
      "source": [
        "# Selecting relevant features\n",
        "features = [\"ratings\", \"no_of_ratings\", \"discount_price\", \"actual_price\"]\n",
        "df_selected = df[features].copy()"
      ],
      "metadata": {
        "id": "k7xvuamlIkq-"
      },
      "execution_count": 27,
      "outputs": []
    },
    {
      "cell_type": "code",
      "source": [
        "# Function to clean and convert columns to numeric\n",
        "def clean_numeric(column):\n",
        "    return pd.to_numeric(column.astype(str).str.replace(r\"[^\\d.]\", \"\", regex=True), errors='coerce')\n",
        "\n",
        "# Apply the function to clean and convert numeric columns\n",
        "df_selected[\"no_of_ratings\"] = clean_numeric(df_selected[\"no_of_ratings\"])\n",
        "df_selected[\"discount_price\"] = clean_numeric(df_selected[\"discount_price\"])\n",
        "df_selected[\"actual_price\"] = clean_numeric(df_selected[\"actual_price\"])\n",
        "df_selected[\"ratings\"] = pd.to_numeric(df_selected[\"ratings\"], errors='coerce')  # Convert ratings to float\n",
        "\n",
        "# Fill missing values with median\n",
        "df_selected.fillna(df_selected.median(), inplace=True)\n",
        "\n",
        "# Display cleaned data\n",
        "print(df_selected.head())"
      ],
      "metadata": {
        "colab": {
          "base_uri": "https://localhost:8080/"
        },
        "id": "rahllObkKI-J",
        "outputId": "1ededa34-c4d3-4727-f2d0-4613183e4c06"
      },
      "execution_count": 28,
      "outputs": [
        {
          "output_type": "stream",
          "name": "stdout",
          "text": [
            "   ratings  no_of_ratings  discount_price  actual_price\n",
            "0      4.0         1893.0           499.0         999.0\n",
            "1      4.0        33466.0           285.0        1499.0\n",
            "2      4.4        29931.0           524.0        1695.0\n",
            "3      3.3         1212.0           145.0         399.0\n",
            "4      4.1          721.0           179.0         998.0\n"
          ]
        }
      ]
    },
    {
      "cell_type": "code",
      "source": [
        "# Filling missing values with median\n",
        "df_selected.fillna(df_selected.median(), inplace=True)"
      ],
      "metadata": {
        "id": "X0Akk2RFInFE"
      },
      "execution_count": 29,
      "outputs": []
    },
    {
      "cell_type": "code",
      "source": [
        "from sklearn.preprocessing import MinMaxScaler\n",
        "\n",
        "# Initialize the scaler\n",
        "scaler = MinMaxScaler()\n",
        "\n",
        "# Fit and transform the data\n",
        "df_scaled = scaler.fit_transform(df_selected)\n",
        "\n",
        "# Convert back to DataFrame\n",
        "df_scaled = pd.DataFrame(df_scaled, columns=features)\n"
      ],
      "metadata": {
        "id": "khzr-QbQI0lH"
      },
      "execution_count": 30,
      "outputs": []
    },
    {
      "cell_type": "code",
      "source": [
        "import numpy as np\n",
        "\n",
        "sequence_length = 5  # Number of past observations to consider\n",
        "\n",
        "# Creating sequences\n",
        "X, y = [], []\n",
        "for i in range(len(df_scaled) - sequence_length):\n",
        "    X.append(df_scaled.iloc[i:i+sequence_length].values)  # Past 'sequence_length' records\n",
        "    y.append(df_scaled.iloc[i+sequence_length].values)    # Next value\n",
        "\n",
        "# Convert lists to NumPy arrays\n",
        "X = np.array(X)\n",
        "y = np.array(y)\n",
        "\n",
        "print(f\"Input Shape: {X.shape}, Target Shape: {y.shape}\")\n"
      ],
      "metadata": {
        "colab": {
          "base_uri": "https://localhost:8080/"
        },
        "id": "wFkxgMjJI5MC",
        "outputId": "8e3aa29f-0564-4edb-af34-9e0b5a4b4c67"
      },
      "execution_count": 31,
      "outputs": [
        {
          "output_type": "stream",
          "name": "stdout",
          "text": [
            "Input Shape: (19195, 5, 4), Target Shape: (19195, 4)\n"
          ]
        }
      ]
    },
    {
      "cell_type": "code",
      "source": [
        "import torch\n",
        "\n",
        "# Convert data into PyTorch tensors\n",
        "X_tensor = torch.tensor(X, dtype=torch.float32)\n",
        "y_tensor = torch.tensor(y, dtype=torch.float32)\n",
        "\n",
        "print(f\"Tensor Shape - X: {X_tensor.shape}, y: {y_tensor.shape}\")\n"
      ],
      "metadata": {
        "colab": {
          "base_uri": "https://localhost:8080/"
        },
        "id": "isRAbJ70I8cg",
        "outputId": "9d094c9d-1bac-44f4-de1b-b653f9385d27"
      },
      "execution_count": 32,
      "outputs": [
        {
          "output_type": "stream",
          "name": "stdout",
          "text": [
            "Tensor Shape - X: torch.Size([19195, 5, 4]), y: torch.Size([19195, 4])\n"
          ]
        }
      ]
    },
    {
      "cell_type": "markdown",
      "source": [
        "#Defining RNN"
      ],
      "metadata": {
        "id": "wCP2zWu_LMrd"
      }
    },
    {
      "cell_type": "code",
      "source": [
        "import torch.nn as nn\n",
        "\n",
        "class RNNModel(nn.Module):\n",
        "    def __init__(self, input_size, hidden_size, output_size):\n",
        "        super(RNNModel, self).__init__()\n",
        "        self.hidden_size = hidden_size\n",
        "        self.rnn = nn.RNN(input_size, hidden_size, batch_first=True)\n",
        "        self.fc = nn.Linear(hidden_size, output_size)\n",
        "\n",
        "    def forward(self, x):\n",
        "        out, _ = self.rnn(x)\n",
        "        out = self.fc(out[:, -1, :])  # Take only the last output\n",
        "        return out\n"
      ],
      "metadata": {
        "id": "yf2sFebhLPk2"
      },
      "execution_count": 33,
      "outputs": []
    },
    {
      "cell_type": "code",
      "source": [
        "import matplotlib.pyplot as plt\n",
        "\n",
        "def train_model_with_tracking(model, X_train, y_train, epochs=20, learning_rate=0.001):\n",
        "    criterion = nn.MSELoss()\n",
        "    optimizer = torch.optim.Adam(model.parameters(), lr=learning_rate)\n",
        "    losses = []  # Store loss per epoch\n",
        "\n",
        "    for epoch in range(epochs):\n",
        "        optimizer.zero_grad()\n",
        "        outputs = model(X_train)\n",
        "        loss = criterion(outputs, y_train)\n",
        "        loss.backward()\n",
        "        optimizer.step()\n",
        "\n",
        "        losses.append(loss.item())  # Track loss\n",
        "\n",
        "        if (epoch + 1) % 5 == 0:\n",
        "            print(f\"Epoch [{epoch+1}/{epochs}], Loss: {loss.item():.6f}\")\n",
        "\n",
        "    return model, losses\n"
      ],
      "metadata": {
        "id": "gU3mTwaMLeiy"
      },
      "execution_count": 34,
      "outputs": []
    },
    {
      "cell_type": "code",
      "source": [
        "input_size = 4  # Number of features\n",
        "hidden_size = 64  # Can be adjusted\n",
        "output_size = 4  # Number of output features\n",
        "\n",
        "rnn_model = RNNModel(input_size, hidden_size, output_size)\n",
        "rnn_model = train_model_with_tracking(rnn_model, X_tensor, y_tensor)"
      ],
      "metadata": {
        "colab": {
          "base_uri": "https://localhost:8080/"
        },
        "id": "iBDevYSzLkcz",
        "outputId": "2239677a-b45a-4267-ac3c-fe9b19dbfb35"
      },
      "execution_count": 35,
      "outputs": [
        {
          "output_type": "stream",
          "name": "stdout",
          "text": [
            "Epoch [5/20], Loss: 0.124528\n",
            "Epoch [10/20], Loss: 0.036272\n",
            "Epoch [15/20], Loss: 0.008316\n",
            "Epoch [20/20], Loss: 0.018680\n"
          ]
        }
      ]
    },
    {
      "cell_type": "markdown",
      "source": [
        "#LSTM Model"
      ],
      "metadata": {
        "id": "CdQhy12OL_Vz"
      }
    },
    {
      "cell_type": "code",
      "source": [
        "class LSTMModel(nn.Module):\n",
        "    def __init__(self, input_size, hidden_size, output_size):\n",
        "        super(LSTMModel, self).__init__()\n",
        "        self.hidden_size = hidden_size\n",
        "        self.lstm = nn.LSTM(input_size, hidden_size, batch_first=True)\n",
        "        self.fc = nn.Linear(hidden_size, output_size)\n",
        "\n",
        "    def forward(self, x):\n",
        "        out, _ = self.lstm(x)\n",
        "        out = self.fc(out[:, -1, :])  # Take only the last output\n",
        "        return out\n"
      ],
      "metadata": {
        "id": "hCuIwSaCL8gT"
      },
      "execution_count": 36,
      "outputs": []
    },
    {
      "cell_type": "code",
      "source": [
        "lstm_model = LSTMModel(input_size, hidden_size, output_size)\n",
        "lstm_model = train_model_with_tracking(lstm_model, X_tensor, y_tensor)\n"
      ],
      "metadata": {
        "colab": {
          "base_uri": "https://localhost:8080/"
        },
        "id": "MWno-YjuMDBH",
        "outputId": "b289f950-60bf-4392-f6b3-0c5ef785d911"
      },
      "execution_count": 37,
      "outputs": [
        {
          "output_type": "stream",
          "name": "stdout",
          "text": [
            "Epoch [5/20], Loss: 0.113514\n",
            "Epoch [10/20], Loss: 0.087512\n",
            "Epoch [15/20], Loss: 0.061786\n",
            "Epoch [20/20], Loss: 0.036242\n"
          ]
        }
      ]
    },
    {
      "cell_type": "markdown",
      "source": [
        "#GRU Model"
      ],
      "metadata": {
        "id": "KZQ5LO_gMUWU"
      }
    },
    {
      "cell_type": "code",
      "source": [
        "class GRUModel(nn.Module):\n",
        "    def __init__(self, input_size, hidden_size, output_size):\n",
        "        super(GRUModel, self).__init__()\n",
        "        self.hidden_size = hidden_size\n",
        "        self.gru = nn.GRU(input_size, hidden_size, batch_first=True)\n",
        "        self.fc = nn.Linear(hidden_size, output_size)\n",
        "\n",
        "    def forward(self, x):\n",
        "        out, _ = self.gru(x)\n",
        "        out = self.fc(out[:, -1, :])  # Take only the last output\n",
        "        return out\n"
      ],
      "metadata": {
        "id": "7iuGGjqrMVxk"
      },
      "execution_count": 38,
      "outputs": []
    },
    {
      "cell_type": "code",
      "source": [
        "gru_model = GRUModel(input_size, hidden_size, output_size)\n",
        "gru_model = train_model_with_tracking(gru_model, X_tensor, y_tensor)\n"
      ],
      "metadata": {
        "colab": {
          "base_uri": "https://localhost:8080/"
        },
        "id": "lWg8wJVDMWw7",
        "outputId": "bfe9e551-6eb8-4538-9a5f-8e24b31165a4"
      },
      "execution_count": 39,
      "outputs": [
        {
          "output_type": "stream",
          "name": "stdout",
          "text": [
            "Epoch [5/20], Loss: 0.137732\n",
            "Epoch [10/20], Loss: 0.091815\n",
            "Epoch [15/20], Loss: 0.051862\n",
            "Epoch [20/20], Loss: 0.020246\n"
          ]
        }
      ]
    },
    {
      "cell_type": "code",
      "source": [
        "rnn_model, rnn_losses = train_model_with_tracking(RNNModel(input_size, hidden_size, output_size), X_tensor, y_tensor)\n",
        "lstm_model, lstm_losses = train_model_with_tracking(LSTMModel(input_size, hidden_size, output_size), X_tensor, y_tensor)\n",
        "gru_model, gru_losses = train_model_with_tracking(GRUModel(input_size, hidden_size, output_size), X_tensor, y_tensor)\n"
      ],
      "metadata": {
        "colab": {
          "base_uri": "https://localhost:8080/"
        },
        "id": "DE4xQG9yN2Mz",
        "outputId": "0678cc23-0244-4d78-8a4e-034b84c66b97"
      },
      "execution_count": 40,
      "outputs": [
        {
          "output_type": "stream",
          "name": "stdout",
          "text": [
            "Epoch [5/20], Loss: 0.125602\n",
            "Epoch [10/20], Loss: 0.061676\n",
            "Epoch [15/20], Loss: 0.012767\n",
            "Epoch [20/20], Loss: 0.013039\n",
            "Epoch [5/20], Loss: 0.154131\n",
            "Epoch [10/20], Loss: 0.119478\n",
            "Epoch [15/20], Loss: 0.084670\n",
            "Epoch [20/20], Loss: 0.049699\n",
            "Epoch [5/20], Loss: 0.064612\n",
            "Epoch [10/20], Loss: 0.037127\n",
            "Epoch [15/20], Loss: 0.016887\n",
            "Epoch [20/20], Loss: 0.006106\n"
          ]
        }
      ]
    },
    {
      "cell_type": "code",
      "source": [
        "plt.figure(figsize=(8, 5))\n",
        "\n",
        "plt.plot(rnn_losses, label=\"RNN\", marker=\"o\")\n",
        "plt.plot(lstm_losses, label=\"LSTM\", marker=\"s\")\n",
        "plt.plot(gru_losses, label=\"GRU\", marker=\"^\")\n",
        "\n",
        "plt.xlabel(\"Epochs\")\n",
        "plt.ylabel(\"Loss (MSE)\")\n",
        "plt.title(\"Training Loss Comparison: RNN vs LSTM vs GRU\")\n",
        "plt.legend()\n",
        "plt.grid(True)\n",
        "plt.show()\n"
      ],
      "metadata": {
        "colab": {
          "base_uri": "https://localhost:8080/",
          "height": 487
        },
        "id": "5vppAnPXOF1Z",
        "outputId": "35dbe0b4-36de-4150-c5da-8974e2cb192d"
      },
      "execution_count": 41,
      "outputs": [
        {
          "output_type": "display_data",
          "data": {
            "text/plain": [
              "<Figure size 800x500 with 1 Axes>"
            ],
            "image/png": "[encoded data removed]"
          },
          "metadata": {}
        }
      ]
    },
    {
      "cell_type": "code",
      "source": [
        "pip install transformers\n"
      ],
      "metadata": {
        "colab": {
          "base_uri": "https://localhost:8080/"
        },
        "id": "mn2Ie3B0OPz0",
        "outputId": "c9fd5805-ad66-4eb2-cfe5-0d9ad90249c5"
      },
      "execution_count": 42,
      "outputs": [
        {
          "output_type": "stream",
          "name": "stdout",
          "text": [
            "Requirement already satisfied: transformers in /usr/local/lib/python3.11/dist-packages (4.48.2)\n",
            "Requirement already satisfied: filelock in /usr/local/lib/python3.11/dist-packages (from transformers) (3.17.0)\n",
            "Requirement already satisfied: huggingface-hub<1.0,>=0.24.0 in /usr/local/lib/python3.11/dist-packages (from transformers) (0.28.1)\n",
            "Requirement already satisfied: numpy>=1.17 in /usr/local/lib/python3.11/dist-packages (from transformers) (1.26.4)\n",
            "Requirement already satisfied: packaging>=20.0 in /usr/local/lib/python3.11/dist-packages (from transformers) (24.2)\n",
            "Requirement already satisfied: pyyaml>=5.1 in /usr/local/lib/python3.11/dist-packages (from transformers) (6.0.2)\n",
            "Requirement already satisfied: regex!=2019.12.17 in /usr/local/lib/python3.11/dist-packages (from transformers) (2024.11.6)\n",
            "Requirement already satisfied: requests in /usr/local/lib/python3.11/dist-packages (from transformers) (2.32.3)\n",
            "Requirement already satisfied: tokenizers<0.22,>=0.21 in /usr/local/lib/python3.11/dist-packages (from transformers) (0.21.0)\n",
            "Requirement already satisfied: safetensors>=0.4.1 in /usr/local/lib/python3.11/dist-packages (from transformers) (0.5.2)\n",
            "Requirement already satisfied: tqdm>=4.27 in /usr/local/lib/python3.11/dist-packages (from transformers) (4.67.1)\n",
            "Requirement already satisfied: fsspec>=2023.5.0 in /usr/local/lib/python3.11/dist-packages (from huggingface-hub<1.0,>=0.24.0->transformers) (2024.10.0)\n",
            "Requirement already satisfied: typing-extensions>=3.7.4.3 in /usr/local/lib/python3.11/dist-packages (from huggingface-hub<1.0,>=0.24.0->transformers) (4.12.2)\n",
            "Requirement already satisfied: charset-normalizer<4,>=2 in /usr/local/lib/python3.11/dist-packages (from requests->transformers) (3.4.1)\n",
            "Requirement already satisfied: idna<4,>=2.5 in /usr/local/lib/python3.11/dist-packages (from requests->transformers) (3.10)\n",
            "Requirement already satisfied: urllib3<3,>=1.21.1 in /usr/local/lib/python3.11/dist-packages (from requests->transformers) (2.3.0)\n",
            "Requirement already satisfied: certifi>=2017.4.17 in /usr/local/lib/python3.11/dist-packages (from requests->transformers) (2025.1.31)\n"
          ]
        }
      ]
    },
    {
      "cell_type": "code",
      "source": [
        "from transformers import pipeline\n",
        "\n",
        "# Load a better model (GPT-2)\n",
        "explainer = pipeline(\"text-generation\", model=\"gpt2\")\n",
        "\n",
        "# Define new prompts\n",
        "prompts = [\n",
        "    \"Why does RNN perform worse than LSTM and GRU in sequential data processing?\",\n",
        "    \"Why does LSTM handle long-term dependencies better than RNN?\",\n",
        "    \"Why does GRU train faster than LSTM while maintaining similar performance?\"\n",
        "]\n",
        "\n",
        "# Generate explanations\n",
        "for prompt in prompts:\n",
        "    explanation = explainer(prompt, max_length=100, truncation=True)\n",
        "    print(f\"\\nPrompt: {prompt}\\nExplanation: {explanation[0]['generated_text']}\")\n"
      ],
      "metadata": {
        "colab": {
          "base_uri": "https://localhost:8080/"
        },
        "id": "5PR5hH_lOQFB",
        "outputId": "5c1fb009-67bf-4616-acab-9c335c523a55"
      },
      "execution_count": 43,
      "outputs": [
        {
          "output_type": "stream",
          "name": "stderr",
          "text": [
            "Device set to use cpu\n",
            "Setting `pad_token_id` to `eos_token_id`:50256 for open-end generation.\n",
            "Setting `pad_token_id` to `eos_token_id`:50256 for open-end generation.\n"
          ]
        },
        {
          "output_type": "stream",
          "name": "stdout",
          "text": [
            "\n",
            "Prompt: Why does RNN perform worse than LSTM and GRU in sequential data processing?\n",
            "Explanation: Why does RNN perform worse than LSTM and GRU in sequential data processing? The answer is, yes, indeed it does. RNN does exactly the same job in the same way, with a different approach. The problem is, it can't use LSTM. As a general rule, RNN has no use for RNN-like data processing, and it can't do that any better than LSTM.\n",
            "\n",
            "LSTM's and GRU's advantage\n",
            "\n"
          ]
        },
        {
          "output_type": "stream",
          "name": "stderr",
          "text": [
            "Setting `pad_token_id` to `eos_token_id`:50256 for open-end generation.\n"
          ]
        },
        {
          "output_type": "stream",
          "name": "stdout",
          "text": [
            "\n",
            "Prompt: Why does LSTM handle long-term dependencies better than RNN?\n",
            "Explanation: Why does LSTM handle long-term dependencies better than RNN?\n",
            "\n",
            "I've seen different implementations of LSTM in other languages (like Julia and Go), but for a long time I simply didn't understand the concepts of dependency modeling. Even though I know that this is a common practice within the RNN community, many of the discussions regarding LSTM actually stem from the use of recursive dependencies. This isn't the first mistake that I've had on these projects.\n",
            "\n",
            "\n",
            "\n",
            "Prompt: Why does GRU train faster than LSTM while maintaining similar performance?\n",
            "Explanation: Why does GRU train faster than LSTM while maintaining similar performance? Is it true?\n",
            "\n",
            "Most of us take GRU to the next level when we play a game of Counter-Strike with multiple players. As people come to terms with the fact that the amount of time they can spend playing is so vast that I rarely use it, I have decided to try and use it rather than spend the majority of my time playing that game. This should also make it easier to deal with new\n"
          ]
        }
      ]
    },
    {
      "cell_type": "markdown",
      "source": [
        "#Accuracy evaluation for each model"
      ],
      "metadata": {
        "id": "jMhfkrKOTMlL"
      }
    },
    {
      "cell_type": "code",
      "source": [
        "from sklearn.metrics import mean_squared_error, mean_absolute_error\n",
        "import numpy as np\n",
        "\n",
        "def evaluate_model(model, X_test, y_test):\n",
        "    with torch.no_grad():  # Disable gradient calculation for efficiency\n",
        "        predictions = model(X_test).numpy()  # Get model predictions\n",
        "        actuals = y_test.numpy()  # Convert targets to numpy\n",
        "\n",
        "    # Compute evaluation metrics\n",
        "    mse = mean_squared_error(actuals, predictions)\n",
        "    rmse = np.sqrt(mse)\n",
        "    mae = mean_absolute_error(actuals, predictions)\n",
        "\n",
        "    return {\"MSE\": mse, \"RMSE\": rmse, \"MAE\": mae}\n"
      ],
      "metadata": {
        "id": "o8GnENdbTL2o"
      },
      "execution_count": 44,
      "outputs": []
    },
    {
      "cell_type": "code",
      "source": [
        "rnn_results = evaluate_model(rnn_model, X_tensor, y_tensor)\n",
        "lstm_results = evaluate_model(lstm_model, X_tensor, y_tensor)\n",
        "gru_results = evaluate_model(gru_model, X_tensor, y_tensor)\n",
        "\n",
        "# Print results\n",
        "print(\"\\n🔹 RNN Evaluation:\", rnn_results)\n",
        "print(\"\\n🔹 LSTM Evaluation:\", lstm_results)\n",
        "print(\"\\n🔹 GRU Evaluation:\", gru_results)\n"
      ],
      "metadata": {
        "colab": {
          "base_uri": "https://localhost:8080/"
        },
        "id": "Ekvo3WsQTVqw",
        "outputId": "f26f04dd-cf63-47bb-9ff8-c29c06cba772"
      },
      "execution_count": 45,
      "outputs": [
        {
          "output_type": "stream",
          "name": "stdout",
          "text": [
            "\n",
            "🔹 RNN Evaluation: {'MSE': 0.01627640426158905, 'RMSE': 0.1275790118381117, 'MAE': 0.07292491942644119}\n",
            "\n",
            "🔹 LSTM Evaluation: {'MSE': 0.0429607518017292, 'RMSE': 0.20726975611923995, 'MAE': 0.11823711544275284}\n",
            "\n",
            "🔹 GRU Evaluation: {'MSE': 0.00540927005931735, 'RMSE': 0.07354774000142594, 'MAE': 0.037995845079422}\n"
          ]
        }
      ]
    }
  ]
}